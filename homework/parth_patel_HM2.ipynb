{
 "cells": [
  {
   "cell_type": "markdown",
   "id": "f3a29a4b-a645-4df5-831c-c30f117a8110",
   "metadata": {},
   "source": [
    "Part 3\n",
    "## question 1\n",
    "Read  red-wine.csv into Python as a data frame, use a pandas profiling tool (https://github.com/pandas-profiling/pandas-profiling) to create an HTML file"
   ]
  },
  {
   "cell_type": "code",
   "execution_count": 1,
   "id": "1086578d-bdae-4899-812d-45241987c2dc",
   "metadata": {},
   "outputs": [
    {
     "data": {
      "application/vnd.jupyter.widget-view+json": {
       "model_id": "c78b5074f0ba4eeda580dc9309cd61d4",
       "version_major": 2,
       "version_minor": 0
      },
      "text/plain": [
       "Summarize dataset:   0%|          | 0/5 [00:00<?, ?it/s]"
      ]
     },
     "metadata": {},
     "output_type": "display_data"
    },
    {
     "data": {
      "application/vnd.jupyter.widget-view+json": {
       "model_id": "634b510c37a4481289ba1f704fdf870e",
       "version_major": 2,
       "version_minor": 0
      },
      "text/plain": [
       "Generate report structure:   0%|          | 0/1 [00:00<?, ?it/s]"
      ]
     },
     "metadata": {},
     "output_type": "display_data"
    },
    {
     "data": {
      "application/vnd.jupyter.widget-view+json": {
       "model_id": "35ee666e85ae49ef915d58dea8f3e3d6",
       "version_major": 2,
       "version_minor": 0
      },
      "text/plain": [
       "Render HTML:   0%|          | 0/1 [00:00<?, ?it/s]"
      ]
     },
     "metadata": {},
     "output_type": "display_data"
    },
    {
     "data": {
      "application/vnd.jupyter.widget-view+json": {
       "model_id": "5c66d654f9584144be754f7687123b41",
       "version_major": 2,
       "version_minor": 0
      },
      "text/plain": [
       "Export report to file:   0%|          | 0/1 [00:00<?, ?it/s]"
      ]
     },
     "metadata": {},
     "output_type": "display_data"
    },
    {
     "name": "stdout",
     "output_type": "stream",
     "text": [
      "The profiling report has been saved as 'red_wine_profile_report.html'. Please open it in a web browser.\n"
     ]
    }
   ],
   "source": [
    "import pandas as pd\n",
    "from ydata_profiling import ProfileReport\n",
    "\n",
    "# Load the dataset\n",
    "red_wine_data = pd.read_csv('red_wine.csv')\n",
    "\n",
    "# Create a profile report without widget display\n",
    "profile = ProfileReport(red_wine_data, title=\"Red Wine Data Profiling Report\", explorative=True)\n",
    "\n",
    "# Save the report as an HTML file\n",
    "profile.to_file(\"red_wine_profile_report.html\")\n",
    "\n",
    "# Inform the user to open the HTML file manually\n",
    "print(\"The profiling report has been saved as 'red_wine_profile_report.html'. Please open it in a web browser.\")\n"
   ]
  },
  {
   "cell_type": "markdown",
   "id": "ed004c0a-e516-4823-bce9-26d2d1b45587",
   "metadata": {},
   "source": [
    "## Question 3\n",
    "Plot the ROC curve of the Random Forest classifier from the Python package"
   ]
  },
  {
   "cell_type": "code",
   "execution_count": 2,
   "id": "3572c0b0-7701-48a1-8a5d-02ece573c594",
   "metadata": {},
   "outputs": [
    {
     "data": {
      "text/plain": [
       "<Figure size 1000x600 with 0 Axes>"
      ]
     },
     "metadata": {},
     "output_type": "display_data"
    },
    {
     "data": {
      "image/png": "[encoded data removed]",
      "text/plain": [
       "<Figure size 640x480 with 1 Axes>"
      ]
     },
     "metadata": {},
     "output_type": "display_data"
    }
   ],
   "source": [
    "import pandas as pd\n",
    "import matplotlib.pyplot as plt\n",
    "from sklearn.metrics import RocCurveDisplay\n",
    "from sklearn.ensemble import RandomForestClassifier\n",
    "from sklearn.preprocessing import LabelEncoder\n",
    "\n",
    "# Load the dataset\n",
    "red_wine_data = pd.read_csv('red_wine.csv')\n",
    "\n",
    "# Prepare the data\n",
    "# Encode the target variable ('type') as binary classification\n",
    "label_encoder = LabelEncoder()\n",
    "red_wine_data['type'] = label_encoder.fit_transform(red_wine_data['type'])\n",
    "\n",
    "# Features and target variable\n",
    "X = red_wine_data.drop(columns=['type'])\n",
    "y = red_wine_data['type']\n",
    "\n",
    "# Train the Random Forest classifier\n",
    "rf_classifier = RandomForestClassifier(random_state=42)\n",
    "rf_classifier.fit(X, y)\n",
    "\n",
    "# Predict probabilities for the positive class\n",
    "y_prob = rf_classifier.predict_proba(X)[:, 1]\n",
    "\n",
    "# Plot the ROC curve\n",
    "plt.figure(figsize=(10, 6))\n",
    "RocCurveDisplay.from_predictions(y, y_prob)\n",
    "plt.title(\"ROC Curve of Random Forest Classifier\")\n",
    "plt.show()\n"
   ]
  },
  {
   "cell_type": "markdown",
   "id": "2c202127-e3f0-490a-af1a-98bd65820a25",
   "metadata": {},
   "source": [
    "## question 4\n",
    "Using the best model obtained above in Q2 (according to AUC), running the model on white-wine.csv, and reporting the AUC score, comment on the performance."
   ]
  },
  {
   "cell_type": "code",
   "execution_count": 9,
   "id": "d4bf9481-a926-4a59-a65f-8bd04cda85d1",
   "metadata": {},
   "outputs": [
    {
     "name": "stdout",
     "output_type": "stream",
     "text": [
      "The AUC score for the Random Forest model on the white-wine dataset is: 0.9740\n"
     ]
    }
   ],
   "source": [
    "import pandas as pd\n",
    "from sklearn.ensemble import RandomForestClassifier\n",
    "from sklearn.preprocessing import LabelEncoder\n",
    "from sklearn.metrics import roc_auc_score\n",
    "\n",
    "# Load the white-wine dataset\n",
    "white_wine_data = pd.read_csv('white_wine.csv')\n",
    "\n",
    "# Prepare the data\n",
    "# Encode the target variable ('type') using the previously defined LabelEncoder\n",
    "label_encoder = LabelEncoder()\n",
    "white_wine_data['type'] = label_encoder.fit_transform(white_wine_data['type'])\n",
    "\n",
    "# Define features and target variable\n",
    "X_white = white_wine_data.drop(columns=['type'])\n",
    "y_white = white_wine_data['type']\n",
    "\n",
    "# Assuming you already trained a Random Forest model named 'rf_classifier' on the red wine dataset\n",
    "# Predict probabilities for the positive class\n",
    "y_white_prob = rf_classifier.predict_proba(X_white)[:, 1]\n",
    "\n",
    "# Calculate the AUC score for the white-wine dataset\n",
    "white_wine_auc = roc_auc_score(y_white, y_white_prob)\n",
    "print(f'The AUC score for the Random Forest model on the white-wine dataset is: {white_wine_auc:.4f}')\n"
   ]
  },
  {
   "cell_type": "code",
   "execution_count": null,
   "id": "bb1b8bee-0ae0-423e-a323-8dad9d70574b",
   "metadata": {},
   "outputs": [],
   "source": []
  },
  {
   "cell_type": "code",
   "execution_count": null,
   "id": "bf6ac2e2-fa78-4861-a3da-f3438bc0aac0",
   "metadata": {},
   "outputs": [],
   "source": []
  }
 ],
 "metadata": {
  "kernelspec": {
   "display_name": "Python 3 (ipykernel)",
   "language": "python",
   "name": "python3"
  },
  "language_info": {
   "codemirror_mode": {
    "name": "ipython",
    "version": 3
   },
   "file_extension": ".py",
   "mimetype": "text/x-python",
   "name": "python",
   "nbconvert_exporter": "python",
   "pygments_lexer": "ipython3",
   "version": "3.12.4"
  }
 },
 "nbformat": 4,
 "nbformat_minor": 5
}
